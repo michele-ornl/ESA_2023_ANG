{
 "cells": [
  {
   "cell_type": "markdown",
   "id": "3182dcb8-24ba-4136-9116-33632dff60a1",
   "metadata": {},
   "source": [
    "## Finding Data and Cloud-Based Access in Earthdata Search\n",
    "\n",
    "https://nasa-openscapes.github.io/earthdata-cloud-cookbook/how-tos/find-data/earthdata_search.html\n",
    "\n",
    "https://nasa-openscapes.github.io/2021-Cloud-Workshop-AGU/tutorials/01_Earthdata_Search.html\n",
    "\n",
    "\n"
   ]
  },
  {
   "cell_type": "markdown",
   "id": "b0b340cb-80be-44df-a5d3-b03afde40197",
   "metadata": {},
   "source": [
    "There are many ways to access NASA datasets, one way is to use the Earthdata search portal. https://search.earthaccess.nasa.gov/"
   ]
  },
  {
   "cell_type": "markdown",
   "id": "6dc63090-d835-4faa-87f1-8f5efb4d231b",
   "metadata": {},
   "source": [
    "Process to get this search result:\n",
    "\n",
    "https://search.earthdata.nasa.gov/search/granules/granule-details?p=C2659129205-ORNL_CLOUD&pg[0][v]=f&pg[0][id]=*ang20190716t180912_rfl_v2v2_img*&pg[0][gsk]=-start_date&g=G2663881433-ORNL_CLOUD&fpj=AVIRIS&tl=1688140681.883!3!!&lat=58.96061801133043&long=-112.52742947178325&zoom=7\n",
    "\n",
    "1. Earthdata Search\n",
    "2. Filter `AVIRIS` Project\n",
    "3. Select `AVIRIS-NG L2 Surface Reflectance, Facility Instrument Collection, V1`\n",
    "4. Granule Search, Granule ID(s) with `*ang20190716t180912_rfl_v2v2_img*` \n",
    "5. *Download All* Green Button\n",
    "6. Takes you to a new Download Data page\n",
    "7. Granual-level information lists the direct download (https://) links and the direct download access via S3 to the granule (s3://) \n",
    "8. Green *Download Data* button \n",
    "9. Takes you to a new Download Status page that provides AWS S3 Access URLs  \n",
    "`Direct cloud access for this collection is available in the us-west-2 region in AWS S3.`\n",
    "\n",
    "**AVIRIS-NG Surface Reflectance** Earthdata Cloud source: \n",
    "\n",
    "- s3://ornl-cumulus-prod-protected/aviris/AVIRIS-NG_L2_Reflectance/data/ang20190716t180912_rfl_v2v2_img.bin\n",
    "- s3://ornl-cumulus-prod-protected/aviris/AVIRIS-NG_L2_Reflectance/data/ang20190716t180912_rfl_v2v2_img.hdr\n",
    "\n",
    "These two files (*.bin, *.hdr) are the ENVI binary/header pair that is required"
   ]
  },
  {
   "cell_type": "code",
   "execution_count": null,
   "id": "49add43e-93e2-403a-aa10-0f18e045d038",
   "metadata": {},
   "outputs": [],
   "source": []
  }
 ],
 "metadata": {
  "kernelspec": {
   "display_name": "Python 3 (ipykernel)",
   "language": "python",
   "name": "python3"
  },
  "language_info": {
   "codemirror_mode": {
    "name": "ipython",
    "version": 3
   },
   "file_extension": ".py",
   "mimetype": "text/x-python",
   "name": "python",
   "nbconvert_exporter": "python",
   "pygments_lexer": "ipython3",
   "version": "3.9.16"
  }
 },
 "nbformat": 4,
 "nbformat_minor": 5
}
