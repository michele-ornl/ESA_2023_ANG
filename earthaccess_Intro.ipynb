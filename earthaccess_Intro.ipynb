{
 "cells": [
  {
   "cell_type": "markdown",
   "id": "2c35dcf5-e4c7-46c4-b5b7-b8aa747a145e",
   "metadata": {},
   "source": [
    "## NASA earthaccess Introduction"
   ]
  },
  {
   "cell_type": "markdown",
   "id": "7f551fe4-c9a3-45fa-90f8-3ee462e92c60",
   "metadata": {},
   "source": [
    "https://nsidc.github.io/earthaccess/tutorials/demo/"
   ]
  },
  {
   "cell_type": "code",
   "execution_count": null,
   "id": "4d940516-0eba-4cd5-92c0-b0811c07d216",
   "metadata": {},
   "outputs": [],
   "source": [
    "earthaccess is a Python package to search, preview and access NASA datasets (on-prem or in the cloud) with a few lines of code."
   ]
  },
  {
   "cell_type": "markdown",
   "id": "39e7f3ac-03ee-428b-a3fc-2c203aade86a",
   "metadata": {},
   "source": [
    "Earthdata Login provides free and immediate access to thousands "
   ]
  }
 ],
 "metadata": {
  "kernelspec": {
   "display_name": "Python 3 (ipykernel)",
   "language": "python",
   "name": "python3"
  },
  "language_info": {
   "codemirror_mode": {
    "name": "ipython",
    "version": 3
   },
   "file_extension": ".py",
   "mimetype": "text/x-python",
   "name": "python",
   "nbconvert_exporter": "python",
   "pygments_lexer": "ipython3",
   "version": "3.9.16"
  }
 },
 "nbformat": 4,
 "nbformat_minor": 5
}
